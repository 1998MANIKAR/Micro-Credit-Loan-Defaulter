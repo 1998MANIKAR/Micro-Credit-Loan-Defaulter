{
 "cells": [
  {
   "cell_type": "code",
   "execution_count": 1,
   "id": "ef9ace2d",
   "metadata": {},
   "outputs": [
    {
     "name": "stdout",
     "output_type": "stream",
     "text": [
      "Requirement already satisfied: selenium in c:\\users\\91852\\anaconda3\\lib\\site-packages (4.0.0)\n",
      "Requirement already satisfied: urllib3[secure]~=1.26 in c:\\users\\91852\\anaconda3\\lib\\site-packages (from selenium) (1.26.4)\n",
      "Requirement already satisfied: trio~=0.17 in c:\\users\\91852\\anaconda3\\lib\\site-packages (from selenium) (0.19.0)\n",
      "Requirement already satisfied: trio-websocket~=0.9 in c:\\users\\91852\\anaconda3\\lib\\site-packages (from selenium) (0.9.2)\n",
      "Requirement already satisfied: sniffio in c:\\users\\91852\\anaconda3\\lib\\site-packages (from trio~=0.17->selenium) (1.2.0)\n",
      "Requirement already satisfied: idna in c:\\users\\91852\\anaconda3\\lib\\site-packages (from trio~=0.17->selenium) (2.10)\n",
      "Requirement already satisfied: async-generator>=1.9 in c:\\users\\91852\\anaconda3\\lib\\site-packages (from trio~=0.17->selenium) (1.10)\n",
      "Requirement already satisfied: cffi>=1.14 in c:\\users\\91852\\anaconda3\\lib\\site-packages (from trio~=0.17->selenium) (1.14.5)\n",
      "Requirement already satisfied: sortedcontainers in c:\\users\\91852\\anaconda3\\lib\\site-packages (from trio~=0.17->selenium) (2.3.0)\n",
      "Requirement already satisfied: attrs>=19.2.0 in c:\\users\\91852\\anaconda3\\lib\\site-packages (from trio~=0.17->selenium) (20.3.0)\n",
      "Requirement already satisfied: outcome in c:\\users\\91852\\anaconda3\\lib\\site-packages (from trio~=0.17->selenium) (1.1.0)\n",
      "Requirement already satisfied: pycparser in c:\\users\\91852\\anaconda3\\lib\\site-packages (from cffi>=1.14->trio~=0.17->selenium) (2.20)\n",
      "Requirement already satisfied: wsproto>=0.14 in c:\\users\\91852\\anaconda3\\lib\\site-packages (from trio-websocket~=0.9->selenium) (1.0.0)\n",
      "Requirement already satisfied: pyOpenSSL>=0.14 in c:\\users\\91852\\anaconda3\\lib\\site-packages (from urllib3[secure]~=1.26->selenium) (20.0.1)\n",
      "Requirement already satisfied: certifi in c:\\users\\91852\\anaconda3\\lib\\site-packages (from urllib3[secure]~=1.26->selenium) (2020.12.5)\n",
      "Requirement already satisfied: cryptography>=1.3.4 in c:\\users\\91852\\anaconda3\\lib\\site-packages (from urllib3[secure]~=1.26->selenium) (3.4.7)\n",
      "Requirement already satisfied: six>=1.5.2 in c:\\users\\91852\\anaconda3\\lib\\site-packages (from pyOpenSSL>=0.14->urllib3[secure]~=1.26->selenium) (1.15.0)\n",
      "Requirement already satisfied: h11<1,>=0.9.0 in c:\\users\\91852\\anaconda3\\lib\\site-packages (from wsproto>=0.14->trio-websocket~=0.9->selenium) (0.12.0)\n"
     ]
    }
   ],
   "source": [
    " ! pip install selenium"
   ]
  },
  {
   "cell_type": "code",
   "execution_count": 10,
   "id": "0864772f",
   "metadata": {},
   "outputs": [],
   "source": [
    "import warnings\n",
    "warnings.filterwarnings('ignore')"
   ]
  },
  {
   "cell_type": "code",
   "execution_count": 11,
   "id": "a39af252",
   "metadata": {},
   "outputs": [],
   "source": [
    "# lets now import all the requried librares\n",
    "import selenium\n",
    "import pandas as pd\n",
    "from selenium import webdriver"
   ]
  },
  {
   "cell_type": "code",
   "execution_count": 27,
   "id": "91b444d8",
   "metadata": {},
   "outputs": [],
   "source": [
    "# lets first connect the webdriver \n",
    "driver=webdriver.Chrome(r\"C:\\Users\\91852\\Dropbox\\My PC (LAPTOP-APF4NTSI)\\Downloads\\chromedriver_win32/chromedriver.exe\")"
   ]
  },
  {
   "cell_type": "code",
   "execution_count": 28,
   "id": "4492029a",
   "metadata": {},
   "outputs": [],
   "source": [
    "# driver.close()"
   ]
  },
  {
   "cell_type": "code",
   "execution_count": 29,
   "id": "f6fa3725",
   "metadata": {},
   "outputs": [],
   "source": [
    "driver.get('https://www.amazon.in/')"
   ]
  },
  {
   "cell_type": "code",
   "execution_count": 30,
   "id": "a6de5c92",
   "metadata": {},
   "outputs": [],
   "source": [
    "# finding element for job search bar\n",
    "search_job = driver.find_element_by_id('twotabsearchtextbox')\n",
    "# job search bar"
   ]
  },
  {
   "cell_type": "code",
   "execution_count": 31,
   "id": "431444e6",
   "metadata": {},
   "outputs": [],
   "source": [
    "search_job.send_keys(\"laptop\")"
   ]
  },
  {
   "cell_type": "code",
   "execution_count": 32,
   "id": "7c183e07",
   "metadata": {},
   "outputs": [],
   "source": [
    "search_btn = driver.find_element_by_xpath(\"//span[@class='nav-search-submit-text nav-sprite nav-progressive-attribute']\")\n",
    "search_btn.click()"
   ]
  },
  {
   "cell_type": "code",
   "execution_count": 33,
   "id": "67c233c8",
   "metadata": {},
   "outputs": [],
   "source": [
    "#specifing the url of the webpage to be scraped\n",
    "url=\"https://www.amazon.in/s?k=laptop&i=computers&rh=n%3A1375424031%2Cp_n_feature_thirteen_browse-bin%3A12598163031%7C16757432031&dc&qid=1636161846&rnid=12598141031&ref=sr_nr_p_n_feature_thirteen_browse-bin_27\""
   ]
  },
  {
   "cell_type": "code",
   "execution_count": 34,
   "id": "97a302d9",
   "metadata": {},
   "outputs": [],
   "source": [
    "# lets open the webpage through our web driver\n",
    "driver.get(url)"
   ]
  },
  {
   "cell_type": "markdown",
   "id": "2a6ae8e8",
   "metadata": {},
   "source": [
    "Now we will see in the window opened by webdriver whether the webpage has opened or not.\n",
    "lets check it"
   ]
  },
  {
   "cell_type": "markdown",
   "id": "401f9358",
   "metadata": {},
   "source": [
    "So,Now lets first create 10 empty lists. In these lists the data will be stored while scraping.We have created 10 empty lists for 3 features which we have to exract"
   ]
  },
  {
   "cell_type": "markdown",
   "id": "ee99ef97",
   "metadata": {},
   "source": [
    "1.Title names 2.Ratings 3.Price"
   ]
  },
  {
   "cell_type": "code",
   "execution_count": 41,
   "id": "20c4654e",
   "metadata": {},
   "outputs": [],
   "source": [
    "title_names=[]\n",
    "Ratings_list=[]\n",
    "Price=[]"
   ]
  },
  {
   "cell_type": "markdown",
   "id": "465a4ddc",
   "metadata": {},
   "source": [
    "First, we will extract all the tags where we have the title name.Let me first show you on the webpage in which tags the title name are put."
   ]
  },
  {
   "cell_type": "code",
   "execution_count": 42,
   "id": "a0586da4",
   "metadata": {},
   "outputs": [
    {
     "data": {
      "text/plain": [
       "[<selenium.webdriver.remote.webelement.WebElement (session=\"bca5ae0dcc479493cd0f5d051d6f2466\", element=\"bfe67fba-aef8-4a53-8fbe-0abd6f801558\")>,\n",
       " <selenium.webdriver.remote.webelement.WebElement (session=\"bca5ae0dcc479493cd0f5d051d6f2466\", element=\"02fa7e7f-948c-4d68-bdd8-1bd0a1dcf396\")>,\n",
       " <selenium.webdriver.remote.webelement.WebElement (session=\"bca5ae0dcc479493cd0f5d051d6f2466\", element=\"3a69b355-a4a5-4fa3-b2bc-540debcc89b1\")>,\n",
       " <selenium.webdriver.remote.webelement.WebElement (session=\"bca5ae0dcc479493cd0f5d051d6f2466\", element=\"84789653-babc-4122-b077-48e3e28f19e8\")>,\n",
       " <selenium.webdriver.remote.webelement.WebElement (session=\"bca5ae0dcc479493cd0f5d051d6f2466\", element=\"cd04832a-2097-4068-a36e-80ee06b15d6e\")>,\n",
       " <selenium.webdriver.remote.webelement.WebElement (session=\"bca5ae0dcc479493cd0f5d051d6f2466\", element=\"1b1a6244-16ce-4afe-a16f-f316d2feb910\")>,\n",
       " <selenium.webdriver.remote.webelement.WebElement (session=\"bca5ae0dcc479493cd0f5d051d6f2466\", element=\"edf9604c-e5d6-4a58-8d02-ff786ad12d40\")>,\n",
       " <selenium.webdriver.remote.webelement.WebElement (session=\"bca5ae0dcc479493cd0f5d051d6f2466\", element=\"50ad09b4-0b64-4a83-9f0e-413d8b56927d\")>,\n",
       " <selenium.webdriver.remote.webelement.WebElement (session=\"bca5ae0dcc479493cd0f5d051d6f2466\", element=\"ab81d8ae-98f7-43a6-acbd-8206e9c5640f\")>,\n",
       " <selenium.webdriver.remote.webelement.WebElement (session=\"bca5ae0dcc479493cd0f5d051d6f2466\", element=\"146b3bf9-f4b3-4468-9d6e-a94c814f4766\")>]"
      ]
     },
     "execution_count": 42,
     "metadata": {},
     "output_type": "execute_result"
    }
   ],
   "source": [
    "# so Lets extract all the tags having the titles-name\n",
    "title_name=driver.find_elements_by_xpath(\"//span[@class='a-size-medium a-color-base a-text-normal']\")\n",
    "title_name[0:10]"
   ]
  },
  {
   "cell_type": "markdown",
   "id": "6d6c504d",
   "metadata": {},
   "source": [
    "Now we have all the tags in which there are the title names."
   ]
  },
  {
   "cell_type": "markdown",
   "id": "7c4a0768",
   "metadata": {},
   "source": [
    "Now we will extract the text from these tags one by one by looping over these tags"
   ]
  },
  {
   "cell_type": "code",
   "execution_count": 46,
   "id": "41505abf",
   "metadata": {},
   "outputs": [
    {
     "data": {
      "text/plain": [
       "[]"
      ]
     },
     "execution_count": 46,
     "metadata": {},
     "output_type": "execute_result"
    }
   ],
   "source": [
    "for i in title_names:\n",
    "    title=i.text\n",
    "    title_names.append(title)\n",
    "title_names[0:10]"
   ]
  },
  {
   "cell_type": "code",
   "execution_count": 48,
   "id": "bee29bdf",
   "metadata": {},
   "outputs": [
    {
     "name": "stdout",
     "output_type": "stream",
     "text": [
      "0\n"
     ]
    }
   ],
   "source": [
    "print(len(title_names))"
   ]
  },
  {
   "cell_type": "code",
   "execution_count": 70,
   "id": "b9283db3",
   "metadata": {},
   "outputs": [
    {
     "ename": "NameError",
     "evalue": "name 'tilte_names' is not defined",
     "output_type": "error",
     "traceback": [
      "\u001b[1;31m---------------------------------------------------------------------------\u001b[0m",
      "\u001b[1;31mNameError\u001b[0m                                 Traceback (most recent call last)",
      "\u001b[1;32m<ipython-input-70-d6c28347503b>\u001b[0m in \u001b[0;36m<module>\u001b[1;34m\u001b[0m\n\u001b[1;32m----> 1\u001b[1;33m \u001b[1;32mfor\u001b[0m \u001b[0mi\u001b[0m \u001b[1;32min\u001b[0m \u001b[0mtilte_names\u001b[0m\u001b[1;33m:\u001b[0m\u001b[1;33m\u001b[0m\u001b[1;33m\u001b[0m\u001b[0m\n\u001b[0m\u001b[0;32m      2\u001b[0m     \u001b[0mtitle\u001b[0m\u001b[1;33m=\u001b[0m\u001b[0mi\u001b[0m\u001b[1;33m.\u001b[0m\u001b[0mtext\u001b[0m\u001b[1;33m\u001b[0m\u001b[1;33m\u001b[0m\u001b[0m\n\u001b[0;32m      3\u001b[0m     \u001b[0mtitle_names\u001b[0m\u001b[1;33m.\u001b[0m\u001b[0mappend\u001b[0m\u001b[1;33m(\u001b[0m\u001b[0mtitle\u001b[0m\u001b[1;33m)\u001b[0m\u001b[1;33m\u001b[0m\u001b[1;33m\u001b[0m\u001b[0m\n\u001b[0;32m      4\u001b[0m \u001b[0mtitle_names\u001b[0m\u001b[1;33m[\u001b[0m\u001b[1;36m0\u001b[0m\u001b[1;33m:\u001b[0m\u001b[1;36m10\u001b[0m\u001b[1;33m]\u001b[0m\u001b[1;33m\u001b[0m\u001b[1;33m\u001b[0m\u001b[0m\n",
      "\u001b[1;31mNameError\u001b[0m: name 'tilte_names' is not defined"
     ]
    }
   ],
   "source": [
    "for i in tilte_names:\n",
    "    title=i.text\n",
    "    title_names.append(title)\n",
    "title_names[0:10]"
   ]
  },
  {
   "cell_type": "code",
   "execution_count": null,
   "id": "322e27c5",
   "metadata": {},
   "outputs": [],
   "source": [
    "# Now the text of the title_name is inside the tags extracted above.\n",
    "# so we will run a loop to iterate over the tags extracted above and extract the tags"
   ]
  },
  {
   "cell_type": "code",
   "execution_count": null,
   "id": "59fd6078",
   "metadata": {},
   "outputs": [],
   "source": []
  }
 ],
 "metadata": {
  "kernelspec": {
   "display_name": "Python 3",
   "language": "python",
   "name": "python3"
  },
  "language_info": {
   "codemirror_mode": {
    "name": "ipython",
    "version": 3
   },
   "file_extension": ".py",
   "mimetype": "text/x-python",
   "name": "python",
   "nbconvert_exporter": "python",
   "pygments_lexer": "ipython3",
   "version": "3.8.8"
  }
 },
 "nbformat": 4,
 "nbformat_minor": 5
}
